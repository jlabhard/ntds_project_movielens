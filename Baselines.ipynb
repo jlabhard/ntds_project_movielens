{
 "cells": [
  {
   "cell_type": "code",
   "execution_count": 157,
   "metadata": {},
   "outputs": [],
   "source": [
    "import numpy as np\n",
    "import pandas as pd\n",
    "from scipy.spatial.distance import pdist, squareform, euclidean, seuclidean, sqeuclidean\n",
    "import matplotlib.pyplot as plt\n",
    "import networkx as nx\n",
    "import collections\n",
    "from copy import copy"
   ]
  },
  {
   "cell_type": "code",
   "execution_count": 95,
   "metadata": {},
   "outputs": [],
   "source": [
    "from surprise import SVD, SVDpp, CoClusteringlusteringlusteringlustering, KNNBaseline\n",
    "from surprise import Dataset, Reader"
   ]
  },
  {
   "cell_type": "code",
   "execution_count": 2,
   "metadata": {},
   "outputs": [],
   "source": [
    "data = pd.read_csv(\"Data/ml-100k/u.data\", sep = \"\\t\", header = None, names = [\"user_id\", \"item_id\", \"rating\", \"ts\"])\n",
    "users = pd.read_csv(\"Data/ml-100k/u.user\", sep = \"|\", header = None, names = [\"user_id\", \"age\", \"sex\", \"occupation\", \"ts\"])\n",
    "movies = pd.read_csv(\"Data/ml-100k/u.item\", sep = \"|\", encoding=\"ISO-8859-1\", header = None, names = [\"item_id\", \"movie_title\", \"release_date\", \"3\", \"IMdb_url\", \"unknown\",\n",
    "\"Action\",\n",
    "\"Adventure\",\n",
    "\"Animation\",\n",
    "\"Children\\'s\",\n",
    "\"Comedy\",\n",
    "\"Crime\",\n",
    "\"Documentary\",\n",
    "\"Drama\",\n",
    "\"Fantasy\",\n",
    "\"Film-Noir\",\n",
    "\"Horror\",\n",
    "\"Musical\",\n",
    "\"Mystery\",\n",
    "\"Romance\",\n",
    "\"Sci-Fi\",\n",
    "\"Thriller\",\n",
    "\"War\",\n",
    "\"Western\"])\n",
    "\n",
    "# reduce ids by 1 for easier indexing\n",
    "users.user_id = users.user_id.apply(lambda x: x-1)\n",
    "movies.item_id = movies.item_id.apply(lambda x: x-1)\n",
    "data.user_id = data.user_id.apply(lambda x: x-1)\n",
    "data.item_id = data.item_id.apply(lambda x: x-1)\n"
   ]
  },
  {
   "cell_type": "code",
   "execution_count": 82,
   "metadata": {},
   "outputs": [],
   "source": [
    "ratings = np.zeros((943, 1682))\n",
    "for i in range(data.shape[0]):\n",
    "                   ratings[data.user_id[i], data.item_id[i]] = data.rating[i]\n",
    "\n",
    "indices = ((ratings != 0).sum(axis = 0) >= 5)\n",
    "old_indices = [i for i, x in enumerate(indices) if x]\n",
    "new_indices = np.arange(np.sum(indices))\n",
    "indices_map = zip(new_indices, old_indices)\n",
    "\n",
    "filtered_ratings = ratings[:, indices]\n",
    "filtered_ratings.shape\n",
    "\n",
    "filtered_data_indices = data['item_id'].map(lambda x: indices[x])\n",
    "filtered_data = data[filtered_data_indices]"
   ]
  },
  {
   "cell_type": "code",
   "execution_count": 103,
   "metadata": {},
   "outputs": [],
   "source": [
    "def evaluate_model(model, filtered_data, user_ratings, remove_split=0.4):\n",
    "    n_users, n_movies = user_ratings.shape\n",
    "    n_movies_to_remove = int(remove_split*n_movies)\n",
    "    cols_to_remove = np.arange(n_movies)\n",
    "    np.random.seed(1)\n",
    "    np.random.shuffle(cols_to_remove)\n",
    "    cols_to_remove = cols_to_remove[:n_movies_to_remove]\n",
    "\n",
    "    # create test and train dataset\n",
    "    test_indexes = filtered_data['item_id'].map(lambda movie_id: movie_id in cols_to_remove)\n",
    "    train_indexes = ~test_indexes\n",
    "    train_dataset = Dataset.load_from_df(filtered_data[train_indexes].drop(\"ts\", axis=1), \n",
    "                                         Reader())\n",
    "    train_dataset = train_dataset.build_full_trainset()\n",
    "    \n",
    "    # fit the model\n",
    "    model.fit(train_dataset)\n",
    "\n",
    "    # compute the RMSE on the test dataset\n",
    "    mse = 0\n",
    "    for i, row in filtered_data[test_indexes].iterrows():\n",
    "        ground_truth = row['rating']\n",
    "        estimated = model.predict(row['user_id'], row['item_id']).est\n",
    "        mse += (ground_truth - estimated) ** 2\n",
    "    rmse = np.sqrt(1 / 2 * mse / sum(test_indexes))\n",
    "    return rmse, model"
   ]
  },
  {
   "cell_type": "code",
   "execution_count": 104,
   "metadata": {},
   "outputs": [
    {
     "name": "stdout",
     "output_type": "stream",
     "text": [
      "0.7908705646905959\n"
     ]
    }
   ],
   "source": [
    "rmse_cocl, cocl = evaluate_model(CoClustering(), filtered_data, user_ratings)\n",
    "print(rmse_cocl)"
   ]
  },
  {
   "cell_type": "code",
   "execution_count": 86,
   "metadata": {},
   "outputs": [
    {
     "data": {
      "text/plain": [
       "0.7564376928469153"
      ]
     },
     "execution_count": 86,
     "metadata": {},
     "output_type": "execute_result"
    }
   ],
   "source": [
    "rmse_svd, svd = evaluate_model(SVD(), filtered_data, user_ratings)\n",
    "print(rmse_svd)"
   ]
  },
  {
   "cell_type": "code",
   "execution_count": 111,
   "metadata": {},
   "outputs": [],
   "source": [
    "n_users, n_movies = ratings.shape"
   ]
  },
  {
   "cell_type": "code",
   "execution_count": 112,
   "metadata": {},
   "outputs": [],
   "source": [
    "def get_all_estimates(model, user):\n",
    "    result = np.zeros(n_movies)\n",
    "    for i, movie_id in enumerate(range(n_movies)):\n",
    "        result[i] = model.predict(user, movie_id).est\n",
    "    return result"
   ]
  },
  {
   "cell_type": "code",
   "execution_count": 193,
   "metadata": {},
   "outputs": [],
   "source": [
    "def get_recommendations(signal, s, n_recommendations, n_user):\n",
    "    indices = ((ratings != 0).sum(axis = 0) >= 5)\n",
    "    rated_indices = (signal != 0)\n",
    "    s[rated_indices] = -1\n",
    "    ratings_user = copy(ratings[n_user])\n",
    "    ratings_user[indices] = s[indices]\n",
    "    sorted_indices = np.argsort(-ratings_user)\n",
    "    sorted_values = ratings_user[sorted_indices]\n",
    "    return sorted_indices[:n_recommendations], sorted_values[:n_recommendations]"
   ]
  },
  {
   "cell_type": "code",
   "execution_count": 194,
   "metadata": {},
   "outputs": [],
   "source": [
    "def print_recommendations(recommendation_indices):\n",
    "    movie_names = movies.movie_title[recommendation_indices]\n",
    "    print(movie_names)"
   ]
  },
  {
   "cell_type": "code",
   "execution_count": 200,
   "metadata": {},
   "outputs": [
    {
     "data": {
      "text/plain": [
       "(array([ 173, 1448,  965,   21, 1250,  407,  317,  168,   63, 1202]),\n",
       " array([4.77896795, 4.76549856, 4.71889469, 4.67810215, 4.651587  ,\n",
       "        4.63156999, 4.60694151, 4.60660025, 4.58572824, 4.57420604]))"
      ]
     },
     "execution_count": 200,
     "metadata": {},
     "output_type": "execute_result"
    }
   ],
   "source": [
    "n_user = 133\n",
    "signal = ratings[n_user]\n",
    "s = get_all_estimates(cocl, n_user)\n",
    "get_recommendations(signal, s, 10, n_user)"
   ]
  },
  {
   "cell_type": "code",
   "execution_count": 202,
   "metadata": {},
   "outputs": [
    {
     "name": "stdout",
     "output_type": "stream",
     "text": [
      "[4.77896795 4.76549856 4.71889469 4.67810215 4.651587   4.63156999\n",
      " 4.60694151 4.60660025 4.58572824 4.57420604]\n",
      "173                        Raiders of the Lost Ark (1981)\n",
      "1448                               Pather Panchali (1955)\n",
      "965                         Affair to Remember, An (1957)\n",
      "21                                      Braveheart (1995)\n",
      "1250                                A Chef in Love (1996)\n",
      "407                                 Close Shave, A (1995)\n",
      "317                               Schindler's List (1993)\n",
      "168                            Wrong Trousers, The (1993)\n",
      "63                       Shawshank Redemption, The (1994)\n",
      "1202                                       Top Hat (1935)\n",
      "95                      Terminator 2: Judgment Day (1991)\n",
      "11                             Usual Suspects, The (1995)\n",
      "209             Indiana Jones and the Last Crusade (1989)\n",
      "113     Wallace & Gromit: The Best of Aardman Animatio...\n",
      "944                                        Charade (1963)\n",
      "530                                          Shine (1996)\n",
      "316                      In the Name of the Father (1993)\n",
      "86                     Searching for Bobby Fischer (1993)\n",
      "97                       Silence of the Lambs, The (1991)\n",
      "499                                  Fly Away Home (1996)\n",
      "Name: movie_title, dtype: object\n"
     ]
    }
   ],
   "source": [
    "recommendation_indices, recommendation_values = get_recommendations(signal, s, 20, n_user)\n",
    "print(recommendation_values[:10])\n",
    "print_recommendations(recommendation_indices)"
   ]
  }
 ],
 "metadata": {
  "kernelspec": {
   "display_name": "Python 3",
   "language": "python",
   "name": "python3"
  },
  "language_info": {
   "codemirror_mode": {
    "name": "ipython",
    "version": 3
   },
   "file_extension": ".py",
   "mimetype": "text/x-python",
   "name": "python",
   "nbconvert_exporter": "python",
   "pygments_lexer": "ipython3",
   "version": "3.7.4"
  }
 },
 "nbformat": 4,
 "nbformat_minor": 2
}
