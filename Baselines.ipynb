{
 "cells": [
  {
   "cell_type": "code",
   "execution_count": 1,
   "metadata": {},
   "outputs": [],
   "source": [
    "import numpy as np\n",
    "import pandas as pd\n",
    "from scipy.spatial.distance import pdist, squareform, euclidean, seuclidean, sqeuclidean\n",
    "import matplotlib.pyplot as plt\n",
    "import networkx as nx\n",
    "import collections"
   ]
  },
  {
   "cell_type": "code",
   "execution_count": 95,
   "metadata": {},
   "outputs": [],
   "source": [
    "from surprise import SVD, SVDpp, CoClusteringlusteringlusteringlustering, KNNBaseline\n",
    "from surprise import Dataset, Reader"
   ]
  },
  {
   "cell_type": "code",
   "execution_count": 2,
   "metadata": {},
   "outputs": [],
   "source": [
    "data = pd.read_csv(\"Data/ml-100k/u.data\", sep = \"\\t\", header = None, names = [\"user_id\", \"item_id\", \"rating\", \"ts\"])\n",
    "users = pd.read_csv(\"Data/ml-100k/u.user\", sep = \"|\", header = None, names = [\"user_id\", \"age\", \"sex\", \"occupation\", \"ts\"])\n",
    "movies = pd.read_csv(\"Data/ml-100k/u.item\", sep = \"|\", encoding=\"ISO-8859-1\", header = None, names = [\"item_id\", \"movie_title\", \"release_date\", \"3\", \"IMdb_url\", \"unknown\",\n",
    "\"Action\",\n",
    "\"Adventure\",\n",
    "\"Animation\",\n",
    "\"Children\\'s\",\n",
    "\"Comedy\",\n",
    "\"Crime\",\n",
    "\"Documentary\",\n",
    "\"Drama\",\n",
    "\"Fantasy\",\n",
    "\"Film-Noir\",\n",
    "\"Horror\",\n",
    "\"Musical\",\n",
    "\"Mystery\",\n",
    "\"Romance\",\n",
    "\"Sci-Fi\",\n",
    "\"Thriller\",\n",
    "\"War\",\n",
    "\"Western\"])\n",
    "\n",
    "# reduce ids by 1 for easier indexing\n",
    "users.user_id = users.user_id.apply(lambda x: x-1)\n",
    "movies.item_id = movies.item_id.apply(lambda x: x-1)\n",
    "data.user_id = data.user_id.apply(lambda x: x-1)\n",
    "data.item_id = data.item_id.apply(lambda x: x-1)\n"
   ]
  },
  {
   "cell_type": "code",
   "execution_count": 82,
   "metadata": {},
   "outputs": [],
   "source": [
    "ratings = np.zeros((943, 1682))\n",
    "for i in range(data.shape[0]):\n",
    "                   ratings[data.user_id[i], data.item_id[i]] = data.rating[i]\n",
    "\n",
    "indices = ((ratings != 0).sum(axis = 0) >= 5)\n",
    "old_indices = [i for i, x in enumerate(indices) if x]\n",
    "new_indices = np.arange(np.sum(indices))\n",
    "indices_map = zip(new_indices, old_indices)\n",
    "\n",
    "filtered_ratings = ratings[:, indices]\n",
    "filtered_ratings.shape\n",
    "\n",
    "filtered_data_indices = data['item_id'].map(lambda x: indices[x])\n",
    "filtered_data = data[filtered_data_indices]"
   ]
  },
  {
   "cell_type": "code",
   "execution_count": 85,
   "metadata": {},
   "outputs": [],
   "source": [
    "def evaluate_model(model, filtered_data, user_ratings, remove_split=0.4):\n",
    "    n_users, n_movies = user_ratings.shape\n",
    "    n_movies_to_remove = int(remove_split*n_movies)\n",
    "    cols_to_remove = np.arange(n_movies)\n",
    "    np.random.seed(1)\n",
    "    np.random.shuffle(cols_to_remove)\n",
    "    cols_to_remove = cols_to_remove[:n_movies_to_remove]\n",
    "\n",
    "    # create test and train dataset\n",
    "    test_indexes = filtered_data['item_id'].map(lambda movie_id: movie_id in cols_to_remove)\n",
    "    train_indexes = ~test_indexes\n",
    "    train_dataset = Dataset.load_from_df(filtered_data[train_indexes].drop(\"ts\", axis=1), \n",
    "                                         Reader())\n",
    "    train_dataset = train_dataset.build_full_trainset()\n",
    "    \n",
    "    # fit the model\n",
    "    model.fit(train_dataset)\n",
    "\n",
    "    # compute the RMSE on the test dataset\n",
    "    mse = 0\n",
    "    for i, row in filtered_data[test_indexes].iterrows():\n",
    "        ground_truth = row['rating']\n",
    "        estimated = model.predict(row['user_id'], row['item_id']).est\n",
    "        mse += (ground_truth - estimated) ** 2\n",
    "    rmse = np.sqrt(1 / 2 * mse / sum(test_indexes))\n",
    "    return rmse"
   ]
  },
  {
   "cell_type": "code",
   "execution_count": 96,
   "metadata": {},
   "outputs": [
    {
     "data": {
      "text/plain": [
       "0.7908705646905959"
      ]
     },
     "execution_count": 96,
     "metadata": {},
     "output_type": "execute_result"
    }
   ],
   "source": [
    "evaluate_model(CoClustering(), filtered_data, user_ratings)"
   ]
  },
  {
   "cell_type": "code",
   "execution_count": 86,
   "metadata": {},
   "outputs": [
    {
     "data": {
      "text/plain": [
       "0.7564376928469153"
      ]
     },
     "execution_count": 86,
     "metadata": {},
     "output_type": "execute_result"
    }
   ],
   "source": [
    "evaluate_model(SVD(), filtered_data, user_ratings)"
   ]
  },
  {
   "cell_type": "code",
   "execution_count": 94,
   "metadata": {},
   "outputs": [
    {
     "data": {
      "text/plain": [
       "0.7580321038775139"
      ]
     },
     "execution_count": 94,
     "metadata": {},
     "output_type": "execute_result"
    }
   ],
   "source": [
    "evaluate_model(SVDpp(), filtered_data, user_ratings)"
   ]
  }
 ],
 "metadata": {
  "kernelspec": {
   "display_name": "Python 3",
   "language": "python",
   "name": "python3"
  },
  "language_info": {
   "codemirror_mode": {
    "name": "ipython",
    "version": 3
   },
   "file_extension": ".py",
   "mimetype": "text/x-python",
   "name": "python",
   "nbconvert_exporter": "python",
   "pygments_lexer": "ipython3",
   "version": "3.7.4"
  }
 },
 "nbformat": 4,
 "nbformat_minor": 2
}
