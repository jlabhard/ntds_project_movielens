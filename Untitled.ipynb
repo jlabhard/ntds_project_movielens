{
 "cells": [
  {
   "cell_type": "code",
   "execution_count": 120,
   "metadata": {},
   "outputs": [],
   "source": [
    "import numpy as np\n",
    "import pandas as pd\n",
    "from scipy.spatial.distance import pdist, squareform, euclidean, seuclidean, sqeuclidean\n",
    "import matplotlib.pyplot as plt"
   ]
  },
  {
   "cell_type": "code",
   "execution_count": 51,
   "metadata": {},
   "outputs": [],
   "source": [
    "data = pd.read_csv(\"Data/ml-100k/u.data\", sep = \"\\t\", header = None, names = [\"user_id\", \"item_id\", \"rating\", \"ts\"])\n",
    "users = pd.read_csv(\"Data/ml-100k/u.user\", sep = \"|\", header = None, names = [\"user_id\", \"age\", \"sex\", \"occupation\", \"ts\"])\n",
    "movies = pd.read_csv(\"Data/ml-100k/u.item\", sep = \"|\", encoding=\"ISO-8859-1\", header = None, names = [\"item_id\", \"movie_title\", \"release_date\", \"3\", \"IMdb_url\", \"unknown\",\n",
    "\"Action\",\n",
    "\"Adventure\",\n",
    "\"Animation\",\n",
    "\"Children\\'s\",\n",
    "\"Comedy\",\n",
    "\"Crime\",\n",
    "\"Documentary\",\n",
    "\"Drama\",\n",
    "\"Fantasy\",\n",
    "\"Film-Noir\",\n",
    "\"Horror\",\n",
    "\"Musical\",\n",
    "\"Mystery\",\n",
    "\"Romance\",\n",
    "\"Sci-Fi\",\n",
    "\"Thriller\",\n",
    "\"War\",\n",
    "\"Western\"])\n",
    "\n",
    "# reduce ids by 1 for easier indexing\n",
    "users.user_id = users.user_id.apply(lambda x: x-1)\n",
    "movies.item_id = movies.item_id.apply(lambda x: x-1)\n",
    "data.user_id = data.user_id.apply(lambda x: x-1)\n",
    "data.item_id = data.item_id.apply(lambda x: x-1)\n"
   ]
  },
  {
   "cell_type": "code",
   "execution_count": 55,
   "metadata": {},
   "outputs": [],
   "source": [
    "ratings = np.zeros((943, 1682))\n",
    "for i in range(data.shape[0]):\n",
    "                   ratings[data.user_id[i], data.item_id[i]] = data.rating[i]"
   ]
  },
  {
   "cell_type": "code",
   "execution_count": 56,
   "metadata": {},
   "outputs": [
    {
     "data": {
      "text/plain": [
       "array([[5., 3., 4., ..., 0., 0., 0.],\n",
       "       [4., 0., 0., ..., 0., 0., 0.],\n",
       "       [0., 0., 0., ..., 0., 0., 0.],\n",
       "       ...,\n",
       "       [5., 0., 0., ..., 0., 0., 0.],\n",
       "       [0., 0., 0., ..., 0., 0., 0.],\n",
       "       [0., 5., 0., ..., 0., 0., 0.]])"
      ]
     },
     "execution_count": 56,
     "metadata": {},
     "output_type": "execute_result"
    }
   ],
   "source": [
    "ratings"
   ]
  },
  {
   "cell_type": "code",
   "execution_count": 115,
   "metadata": {},
   "outputs": [],
   "source": [
    "euclidean_distance_matrix_movies = squareform(pdist(ratings.T, metric = euclidean_distance_common))"
   ]
  },
  {
   "cell_type": "code",
   "execution_count": 125,
   "metadata": {},
   "outputs": [
    {
     "data": {
      "text/plain": [
       "(array([2.81570e+05, 0.00000e+00, 1.00000e+01, 2.40000e+02, 2.24800e+03,\n",
       "        2.64380e+04, 7.50600e+03, 8.86280e+04, 5.11520e+04, 2.45780e+04,\n",
       "        3.03908e+05, 9.19100e+04, 1.18256e+05, 9.34600e+04, 1.35448e+05,\n",
       "        1.23420e+05, 7.56800e+04, 6.44720e+04, 5.79980e+04, 3.81160e+04,\n",
       "        1.41512e+05, 4.51200e+04, 3.28140e+04, 1.97680e+04, 1.18040e+04,\n",
       "        2.08520e+04, 7.54800e+03, 5.23400e+03, 9.54200e+03, 8.67400e+03,\n",
       "        4.66520e+04, 5.94400e+03, 8.70000e+02, 8.56000e+02, 3.96000e+02,\n",
       "        2.41200e+03, 3.18000e+02, 5.00000e+01, 4.00000e+00, 0.00000e+00,\n",
       "        2.26860e+04, 0.00000e+00, 0.00000e+00, 0.00000e+00, 0.00000e+00,\n",
       "        0.00000e+00, 0.00000e+00, 0.00000e+00, 0.00000e+00, 8.61030e+05]),\n",
       " array([0. , 0.1, 0.2, 0.3, 0.4, 0.5, 0.6, 0.7, 0.8, 0.9, 1. , 1.1, 1.2,\n",
       "        1.3, 1.4, 1.5, 1.6, 1.7, 1.8, 1.9, 2. , 2.1, 2.2, 2.3, 2.4, 2.5,\n",
       "        2.6, 2.7, 2.8, 2.9, 3. , 3.1, 3.2, 3.3, 3.4, 3.5, 3.6, 3.7, 3.8,\n",
       "        3.9, 4. , 4.1, 4.2, 4.3, 4.4, 4.5, 4.6, 4.7, 4.8, 4.9, 5. ]),\n",
       " <a list of 50 Patch objects>)"
      ]
     },
     "execution_count": 125,
     "metadata": {},
     "output_type": "execute_result"
    },
    {
     "data": {
      "image/png": "[encoded data removed]",
      "text/plain": [
       "<Figure size 432x288 with 1 Axes>"
      ]
     },
     "metadata": {
      "needs_background": "light"
     },
     "output_type": "display_data"
    }
   ],
   "source": [
    "plt.hist(euclidean_distance_matrix_movies.flatten(), bins = 50)"
   ]
  },
  {
   "cell_type": "code",
   "execution_count": 114,
   "metadata": {},
   "outputs": [],
   "source": [
    "def euclidean_distance_common(u, v) :\n",
    "    # get common values\n",
    "    mask = ((u != 0) & (v != 0))\n",
    "    count = mask.sum()\n",
    "    if (count == 0):\n",
    "        return 5\n",
    "\n",
    "    return np.sqrt(sqeuclidean(u[mask], v[mask]) / count)"
   ]
  },
  {
   "cell_type": "code",
   "execution_count": null,
   "metadata": {},
   "outputs": [],
   "source": []
  }
 ],
 "metadata": {
  "kernelspec": {
   "display_name": "Python 3",
   "language": "python",
   "name": "python3"
  },
  "language_info": {
   "codemirror_mode": {
    "name": "ipython",
    "version": 3
   },
   "file_extension": ".py",
   "mimetype": "text/x-python",
   "name": "python",
   "nbconvert_exporter": "python",
   "pygments_lexer": "ipython3",
   "version": "3.7.3"
  }
 },
 "nbformat": 4,
 "nbformat_minor": 4
}
